{
  "cells": [
    {
      "cell_type": "code",
      "execution_count": null,
      "metadata": {
        "id": "yTCTETe8nB1s"
      },
      "outputs": [],
      "source": [
        "!pip install ASE\n",
        "!pip install git+https://github.com/facebookresearch/fairchem.git@fairchem_core-2.0.0#subdirectory=packages/fairchem-core"
      ]
    },
    {
      "cell_type": "code",
      "execution_count": null,
      "metadata": {
        "id": "CHvKhHilq0TQ"
      },
      "outputs": [],
      "source": [
        "from ase.build import fcc100, add_adsorbate, molecule\n",
        "from ase.optimize import LBFGS\n",
        "from fairchem.core import FAIRChemCalculator\n",
        "from ase.io import read, Trajectory\n",
        "\n",
        "# FAIRChem calculator\n",
        "calc = FAIRChemCalculator(hf_hub_filename=\"uma_sm.pt\", device=\"cpu\", task_name=\"oc20\")\n",
        "\n",
        "# Read structure file, replace with your structural files\n",
        "atoms = read('AMS_DATA-large.vasp')\n",
        "atoms.calc = calc\n",
        "\n",
        "# Set Trajectory\n",
        "traj = Trajectory('optimization.traj', 'w', atoms)\n",
        "\n",
        "# LBFGS\n",
        "opt = LBFGS(atoms, trajectory=traj)\n",
        "opt.run(fmax=0.05, steps=100)"
      ]
    },
    {
      "cell_type": "code",
      "source": [
        "from ase.io import read, write\n",
        "\n",
        "# Transform traj to readable xyz format\n",
        "frames = read('optimization.traj', index=':')\n",
        "write('trajectory.xyz', frames)"
      ],
      "metadata": {
        "id": "c59iOKbziBeg"
      },
      "execution_count": null,
      "outputs": []
    },
    {
      "cell_type": "code",
      "source": [],
      "metadata": {
        "id": "MKJ4NyUlQCkQ"
      },
      "execution_count": null,
      "outputs": []
    }
  ],
  "metadata": {
    "colab": {
      "provenance": []
    },
    "kernelspec": {
      "display_name": "Python 3",
      "name": "python3"
    },
    "language_info": {
      "name": "python"
    }
  },
  "nbformat": 4,
  "nbformat_minor": 0
}